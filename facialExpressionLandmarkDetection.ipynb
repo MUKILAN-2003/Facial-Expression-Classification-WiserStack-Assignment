{
 "cells": [
  {
   "cell_type": "code",
   "execution_count": 32,
   "metadata": {},
   "outputs": [
    {
     "name": "stderr",
     "output_type": "stream",
     "text": [
      "C:\\Users\\mukil\\AppData\\Local\\Temp\\ipykernel_8668\\120848630.py:44: FutureWarning: The behavior of DataFrame concatenation with empty or all-NA entries is deprecated. In a future version, this will no longer exclude empty or all-NA columns when determining the result dtypes. To retain the old behavior, exclude the relevant entries before the concat operation.\n",
      "  landmarks_df = landmarks_df._append(pd.Series(data, index=columns), ignore_index=True)\n"
     ]
    },
    {
     "name": "stdout",
     "output_type": "stream",
     "text": [
      "Facial landmarks with expressions saved to validation_facial_angry_landmarks_with_expressions.csv\n"
     ]
    },
    {
     "name": "stderr",
     "output_type": "stream",
     "text": [
      "C:\\Users\\mukil\\AppData\\Local\\Temp\\ipykernel_8668\\120848630.py:44: FutureWarning: The behavior of DataFrame concatenation with empty or all-NA entries is deprecated. In a future version, this will no longer exclude empty or all-NA columns when determining the result dtypes. To retain the old behavior, exclude the relevant entries before the concat operation.\n",
      "  landmarks_df = landmarks_df._append(pd.Series(data, index=columns), ignore_index=True)\n"
     ]
    },
    {
     "name": "stdout",
     "output_type": "stream",
     "text": [
      "Facial landmarks with expressions saved to validation_facial_happy_landmarks_with_expressions.csv\n"
     ]
    },
    {
     "name": "stderr",
     "output_type": "stream",
     "text": [
      "C:\\Users\\mukil\\AppData\\Local\\Temp\\ipykernel_8668\\120848630.py:44: FutureWarning: The behavior of DataFrame concatenation with empty or all-NA entries is deprecated. In a future version, this will no longer exclude empty or all-NA columns when determining the result dtypes. To retain the old behavior, exclude the relevant entries before the concat operation.\n",
      "  landmarks_df = landmarks_df._append(pd.Series(data, index=columns), ignore_index=True)\n"
     ]
    },
    {
     "name": "stdout",
     "output_type": "stream",
     "text": [
      "Facial landmarks with expressions saved to validation_facial_sad_landmarks_with_expressions.csv\n"
     ]
    },
    {
     "name": "stderr",
     "output_type": "stream",
     "text": [
      "C:\\Users\\mukil\\AppData\\Local\\Temp\\ipykernel_8668\\120848630.py:44: FutureWarning: The behavior of DataFrame concatenation with empty or all-NA entries is deprecated. In a future version, this will no longer exclude empty or all-NA columns when determining the result dtypes. To retain the old behavior, exclude the relevant entries before the concat operation.\n",
      "  landmarks_df = landmarks_df._append(pd.Series(data, index=columns), ignore_index=True)\n"
     ]
    },
    {
     "name": "stdout",
     "output_type": "stream",
     "text": [
      "Facial landmarks with expressions saved to validation_facial_surprise_landmarks_with_expressions.csv\n"
     ]
    },
    {
     "name": "stderr",
     "output_type": "stream",
     "text": [
      "C:\\Users\\mukil\\AppData\\Local\\Temp\\ipykernel_8668\\120848630.py:44: FutureWarning: The behavior of DataFrame concatenation with empty or all-NA entries is deprecated. In a future version, this will no longer exclude empty or all-NA columns when determining the result dtypes. To retain the old behavior, exclude the relevant entries before the concat operation.\n",
      "  landmarks_df = landmarks_df._append(pd.Series(data, index=columns), ignore_index=True)\n"
     ]
    },
    {
     "name": "stdout",
     "output_type": "stream",
     "text": [
      "Facial landmarks with expressions saved to validation_facial_neutral_landmarks_with_expressions.csv\n"
     ]
    },
    {
     "name": "stderr",
     "output_type": "stream",
     "text": [
      "C:\\Users\\mukil\\AppData\\Local\\Temp\\ipykernel_8668\\120848630.py:44: FutureWarning: The behavior of DataFrame concatenation with empty or all-NA entries is deprecated. In a future version, this will no longer exclude empty or all-NA columns when determining the result dtypes. To retain the old behavior, exclude the relevant entries before the concat operation.\n",
      "  landmarks_df = landmarks_df._append(pd.Series(data, index=columns), ignore_index=True)\n"
     ]
    },
    {
     "name": "stdout",
     "output_type": "stream",
     "text": [
      "Facial landmarks with expressions saved to validation_facial_disgust_landmarks_with_expressions.csv\n"
     ]
    },
    {
     "name": "stderr",
     "output_type": "stream",
     "text": [
      "C:\\Users\\mukil\\AppData\\Local\\Temp\\ipykernel_8668\\120848630.py:44: FutureWarning: The behavior of DataFrame concatenation with empty or all-NA entries is deprecated. In a future version, this will no longer exclude empty or all-NA columns when determining the result dtypes. To retain the old behavior, exclude the relevant entries before the concat operation.\n",
      "  landmarks_df = landmarks_df._append(pd.Series(data, index=columns), ignore_index=True)\n"
     ]
    },
    {
     "name": "stdout",
     "output_type": "stream",
     "text": [
      "Facial landmarks with expressions saved to validation_facial_fear_landmarks_with_expressions.csv\n"
     ]
    }
   ],
   "source": [
    "import mediapipe as mp\n",
    "import cv2\n",
    "import os\n",
    "import pandas as pd\n",
    "\n",
    "mp_holistic = mp.solutions.holistic\n",
    "holistic_model = mp_holistic.Holistic(\n",
    "    min_detection_confidence=0.5,\n",
    "    min_tracking_confidence=0.5\n",
    ")\n",
    "\n",
    "def extract_face_landmarks(image_path):\n",
    "    image = cv2.imread(image_path)\n",
    "    image_rgb = cv2.cvtColor(image, cv2.COLOR_BGR2RGB)\n",
    "\n",
    "    results = holistic_model.process(image_rgb)\n",
    "\n",
    "    if results.face_landmarks:\n",
    "        face_landmarks = results.face_landmarks.landmark\n",
    "        landmarks = []\n",
    "        for landmark in face_landmarks:\n",
    "            landmarks.extend([landmark.x, landmark.y, landmark.z])\n",
    "        return landmarks\n",
    "    else:\n",
    "        return None\n",
    "\n",
    "base_dir = 'dataset/images/validation'\n",
    "expressions = ['angry', 'happy', 'sad', 'surprise', 'neutral', 'disgust', 'fear']\n",
    "\n",
    "columns = ['image', 'expression'] + [f'{axis}{i}' for i in range(468) for axis in ['x', 'y', 'z']]\n",
    "landmarks_df = pd.DataFrame(columns=columns)\n",
    "\n",
    "for expression in expressions:\n",
    "    output_csv = 'validation_facial_'+expression+'_landmarks_with_expressions.csv'\n",
    "    landmarks_df = pd.DataFrame(columns=columns)\n",
    "\n",
    "    image_dir = os.path.join(base_dir, expression)\n",
    "    for filename in os.listdir(image_dir):\n",
    "        if filename.endswith('.jpg') or filename.endswith('.png'):\n",
    "            image_path = os.path.join(image_dir, filename)\n",
    "            landmarks = extract_face_landmarks(image_path)\n",
    "            if landmarks:\n",
    "                data = [filename, expression] + landmarks\n",
    "                landmarks_df = landmarks_df._append(pd.Series(data, index=columns), ignore_index=True)\n",
    "\n",
    "    landmarks_df.to_csv(output_csv, index=False)\n",
    "    print(f'Facial landmarks with expressions saved to {output_csv}')\n",
    "\n",
    "\n",
    "holistic_model.close()"
   ]
  }
 ],
 "metadata": {
  "kernelspec": {
   "display_name": "GPU",
   "language": "python",
   "name": "python3"
  },
  "language_info": {
   "codemirror_mode": {
    "name": "ipython",
    "version": 3
   },
   "file_extension": ".py",
   "mimetype": "text/x-python",
   "name": "python",
   "nbconvert_exporter": "python",
   "pygments_lexer": "ipython3",
   "version": "3.10.14"
  }
 },
 "nbformat": 4,
 "nbformat_minor": 2
}
